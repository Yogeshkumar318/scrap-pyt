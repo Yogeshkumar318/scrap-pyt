{
 "cells": [
  {
   "cell_type": "code",
   "execution_count": 1,
   "metadata": {},
   "outputs": [],
   "source": [
    "from scipy.stats import norm\n",
    "import numpy as np\n",
    "import matplotlib.pyplot as plt\n",
    "\n",
    "N = norm.cdf\n",
    "\n",
    "def BS_CALL(S, K, T, r, sigma):\n",
    "    d1 = (np.log(S/K) + (r + sigma**2/2)*T) / (sigma*np.sqrt(T))\n",
    "    d2 = d1 - sigma * np.sqrt(T)\n",
    "    return S * N(d1) - K * np.exp(-r*T)* N(d2)\n",
    "\n",
    "def BS_PUT(S, K, T, r, sigma):\n",
    "    d1 = (np.log(S/K) + (r + sigma**2/2)*T) / (sigma*np.sqrt(T))\n",
    "    d2 = d1 - sigma* np.sqrt(T)\n",
    "    return K*np.exp(-r*T)*N(-d2) - S*N(-d1)\n",
    "\n",
    "def d1(S, K, T, r, sigma):\n",
    "    return (np.log(S/K) + (r + sigma**2/2)*T) /\\\n",
    "                     sigma*np.sqrt(T)\n",
    "\n",
    "def d2(S, K, T, r, sigma):\n",
    "    return d1(S, K, T, r, sigma) - sigma* np.sqrt(T)\n",
    "\n",
    "def delta_call(S, K, T, r, sigma):\n",
    "    N = norm.cdf\n",
    "    return N(d1(S, K, T, r, sigma))\n",
    "    \n",
    "def delta_fdm_call(S, K, T, r, sigma, ds = 1e-5, method='central'):\n",
    "    method = method.lower() \n",
    "    if method =='central':\n",
    "        return (BS_CALL(S+ds, K, T, r, sigma) -BS_CALL(S-ds, K, T, r, sigma))/\\\n",
    "                        (2*ds)\n",
    "    elif method == 'forward':\n",
    "        return (BS_CALL(S+ds, K, T, r, sigma) - BS_CALL(S, K, T, r, sigma))/ds\n",
    "    elif method == 'backward':\n",
    "        return (BS_CALL(S, K, T, r, sigma) - BS_CALL(S-ds, K, T, r, sigma))/ds\n",
    "    \n",
    "    \n",
    "def delta_put(S, K, T, r, sigma):\n",
    "    return - N(-d1(S, K, T, r, sigma))\n",
    "\n",
    "def delta_fdm_put(S, K, T, r, sigma, ds = 1e-5, method='central'):\n",
    "    method = method.lower() \n",
    "    if method =='central':\n",
    "        return (BS_PUT(S+ds, K, T, r, sigma) -BS_PUT(S-ds, K, T, r, sigma))/\\\n",
    "                        (2*ds)\n",
    "    elif method == 'forward':\n",
    "        return (BS_PUT(S+ds, K, T, r, sigma) - BS_PUT(S, K, T, r, sigma))/ds\n",
    "    elif method == 'backward':\n",
    "        return (BS_PUT(S, K, T, r, sigma) - BS_PUT(S-ds, K, T, r, sigma))/ds\n",
    "\n",
    "\n",
    "\n",
    "S = 100\n",
    "K = 100\n",
    "T = 1\n",
    "r = 0.00\n",
    "sigma = 0.25\n",
    "\n",
    "prices = np.arange(1, 250,1)\n",
    "\n",
    "deltas_c = delta_call(prices, K, T, r, sigma)\n",
    "deltas_p = delta_put(prices, K, T, r, sigma)\n",
    "deltas_back_c = delta_fdm_call(prices, K, T,r, sigma, ds = 0.01,method='backward')\n",
    "deltas_forward_p = delta_fdm_put(prices, K, T,r, sigma, ds = 0.01,method='forward')\n",
    "\n"
   ]
  },
  {
   "cell_type": "code",
   "execution_count": 2,
   "metadata": {},
   "outputs": [
    {
     "data": {
      "text/plain": [
       "<matplotlib.legend.Legend at 0x1d853502220>"
      ]
     },
     "execution_count": 2,
     "metadata": {},
     "output_type": "execute_result"
    },
    {
     "data": {
      "image/png": "[encoded data removed]",
      "text/plain": [
       "<Figure size 432x288 with 1 Axes>"
      ]
     },
     "metadata": {
      "needs_background": "light"
     },
     "output_type": "display_data"
    }
   ],
   "source": [
    "plt.plot(prices, deltas_c, label='Delta Call')\n",
    "plt.plot(prices, deltas_p, label='Delta Put')\n",
    "plt.xlabel('$S_0$')\n",
    "plt.ylabel('Delta')\n",
    "plt.title('Stock Price Effect on Delta for Calls/Puts' )\n",
    "plt.axvline(K, color='black', linestyle='dashed', linewidth=2,label=\"Strike\")\n",
    "plt.legend()"
   ]
  }
 ],
 "metadata": {
  "kernelspec": {
   "display_name": "Python 3",
   "language": "python",
   "name": "python3"
  },
  "language_info": {
   "codemirror_mode": {
    "name": "ipython",
    "version": 3
   },
   "file_extension": ".py",
   "mimetype": "text/x-python",
   "name": "python",
   "nbconvert_exporter": "python",
   "pygments_lexer": "ipython3",
   "version": "3.9.13 (tags/v3.9.13:6de2ca5, May 17 2022, 16:36:42) [MSC v.1929 64 bit (AMD64)]"
  },
  "orig_nbformat": 4,
  "vscode": {
   "interpreter": {
    "hash": "4fc8f8918643be5dde2eb1f4c6d5b5e640614a806c73d5cdd2dbeda230678bb8"
   }
  }
 },
 "nbformat": 4,
 "nbformat_minor": 2
}
