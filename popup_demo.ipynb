{
 "cells": [
  {
   "cell_type": "code",
   "execution_count": 1,
   "metadata": {},
   "outputs": [],
   "source": [
    "# Python 3.x code\n",
    "# Imports\n",
    "import tkinter\n",
    "from tkinter import messagebox\n",
    "\n",
    "# This code is to hide the main tkinter window\n",
    "root = tkinter.Tk()\n",
    "root.withdraw()\n",
    "\n",
    "# Message Box\n",
    "messagebox.showinfo(\"Title\", \"Message\")"
   ]
  }
 ],
 "metadata": {
  "kernelspec": {
   "display_name": "Python 3.9.13 64-bit (microsoft store)",
   "language": "python",
   "name": "python3"
  },
  "language_info": {
   "codemirror_mode": {
    "name": "ipython",
    "version": 3
   },
   "file_extension": ".py",
   "mimetype": "text/x-python",
   "name": "python",
   "nbconvert_exporter": "python",
   "pygments_lexer": "ipython3",
   "version": "3.9.13"
  },
  "orig_nbformat": 4,
  "vscode": {
   "interpreter": {
    "hash": "4fc8f8918643be5dde2eb1f4c6d5b5e640614a806c73d5cdd2dbeda230678bb8"
   }
  }
 },
 "nbformat": 4,
 "nbformat_minor": 2
}
